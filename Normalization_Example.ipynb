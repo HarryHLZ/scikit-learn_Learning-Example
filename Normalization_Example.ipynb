{
 "cells": [
  {
   "cell_type": "code",
   "execution_count": 1,
   "metadata": {},
   "outputs": [],
   "source": [
    "import numpy as np\n",
    "from sklearn import preprocessing\n",
    "from sklearn.datasets import make_classification\n",
    "from sklearn.model_selection import train_test_split\n",
    "from sklearn.svm import SVC\n",
    "import matplotlib.pyplot as plt"
   ]
  },
  {
   "cell_type": "code",
   "execution_count": 2,
   "metadata": {},
   "outputs": [],
   "source": [
    "a = np.array([[10, 2.7, 3.6],\n",
    "           [-100, 5, -2],\n",
    "           [120, 20, 40]], dtype=np.float64)"
   ]
  },
  {
   "cell_type": "code",
   "execution_count": 3,
   "metadata": {},
   "outputs": [
    {
     "data": {
      "text/plain": [
       "array([[  10. ,    2.7,    3.6],\n",
       "       [-100. ,    5. ,   -2. ],\n",
       "       [ 120. ,   20. ,   40. ]])"
      ]
     },
     "execution_count": 3,
     "metadata": {},
     "output_type": "execute_result"
    }
   ],
   "source": [
    "a"
   ]
  },
  {
   "cell_type": "code",
   "execution_count": 4,
   "metadata": {},
   "outputs": [
    {
     "name": "stdout",
     "output_type": "stream",
     "text": [
      "[[ 0.         -0.85170713 -0.55138018]\n",
      " [-1.22474487 -0.55187146 -0.852133  ]\n",
      " [ 1.22474487  1.40357859  1.40351318]]\n"
     ]
    }
   ],
   "source": [
    "print(preprocessing.scale(a))"
   ]
  },
  {
   "cell_type": "code",
   "execution_count": 5,
   "metadata": {},
   "outputs": [],
   "source": [
    "X, y = make_classification(n_samples=300, n_features=2, n_redundant=0, n_informative=2,\n",
    "                          random_state=22, n_clusters_per_class=1, scale=100)\n",
    "# n_smaple: int, default=100. The number of samples.\n",
    "# n_features: int, default=20. The total number of features.\n",
    "# n_informative: int, default=2. The number of informative features.\n",
    "# scale: float, ndarray of shape or None, default = 1.0. Multiply features by the specified value.\n",
    "# X: ndarray of shape(n_samples, n_features). The generated samples.\n",
    "# y: ndarray of shape(n_samples). The integer labels for class membership of each sample"
   ]
  },
  {
   "cell_type": "code",
   "execution_count": 6,
   "metadata": {},
   "outputs": [
    {
     "data": {
      "text/plain": [
       "array([[ 2.70291644e+02,  6.61960634e+01],\n",
       "       [-1.14084935e+02,  2.08200955e+02],\n",
       "       [ 1.38261970e+02,  9.79644473e+01],\n",
       "       [ 8.21203452e+01,  1.28324302e+02],\n",
       "       [-6.70488205e+01,  1.75784878e+02],\n",
       "       [-6.47279575e+01,  1.29540413e+02],\n",
       "       [-1.60748166e+01,  1.44843357e+02],\n",
       "       [-1.79714897e+02,  1.96165553e+02],\n",
       "       [ 1.76269553e+02,  1.00173580e+02],\n",
       "       [-1.54076833e+01, -5.64748124e+01],\n",
       "       [ 2.56337099e+02,  6.62380127e+01],\n",
       "       [ 7.52877073e+01,  1.29259799e+02],\n",
       "       [ 1.51916699e+02,  1.03674608e+02],\n",
       "       [-1.74036881e+01, -1.09809931e+02],\n",
       "       [-2.17281661e+02,  2.09410434e+02],\n",
       "       [ 1.84961277e+02,  8.31168771e+01],\n",
       "       [ 1.23365618e+02,  9.42965851e+01],\n",
       "       [ 1.53526893e+02,  8.46167054e+01],\n",
       "       [-6.59803508e+01,  1.65330660e+02],\n",
       "       [ 2.27066131e+02,  5.06131500e+01],\n",
       "       [-8.59372556e+01,  4.36002296e+01],\n",
       "       [-1.08302436e+02,  2.67706031e+02],\n",
       "       [ 3.74017943e+01,  9.53040013e+01],\n",
       "       [-4.72716793e+01,  1.28126732e+02],\n",
       "       [-1.46885138e+02,  2.21918727e+02],\n",
       "       [ 1.02037853e+02,  9.67509898e+01],\n",
       "       [-1.33901648e+02,  2.02350215e+02],\n",
       "       [-1.11091234e+02,  8.07504808e+01],\n",
       "       [-5.84119092e+01,  6.94677680e+01],\n",
       "       [ 2.21336711e+02,  5.03866467e+01],\n",
       "       [-5.38796849e+01,  9.53086455e+01],\n",
       "       [ 5.59332436e+01,  1.70401972e+02],\n",
       "       [ 9.25339619e+01,  1.04219969e+02],\n",
       "       [ 8.20028631e+01,  1.18758781e+02],\n",
       "       [-4.63319804e+01, -1.37313845e+01],\n",
       "       [-1.35995923e+02,  1.27908488e+02],\n",
       "       [-9.69192995e+01,  1.53357321e+02],\n",
       "       [-6.60321213e+01,  3.49155839e+01],\n",
       "       [-2.42653273e+01,  2.67969168e+01],\n",
       "       [-6.67136986e+01,  1.34636713e+02],\n",
       "       [ 1.93608760e+02,  6.67385803e+01],\n",
       "       [-4.00124999e+01,  9.18946283e+01],\n",
       "       [ 1.56397387e+02,  7.65079200e+01],\n",
       "       [-1.79315910e+02,  2.00280596e+02],\n",
       "       [-7.86893070e+01,  2.12847989e+01],\n",
       "       [ 9.19363052e+01,  1.13205620e+02],\n",
       "       [-9.10253654e+01,  3.55508486e+01],\n",
       "       [-6.28012325e+01,  3.69231574e+01],\n",
       "       [-1.53994858e+02,  8.16192639e+01],\n",
       "       [ 5.64925021e+01, -4.19649782e+01],\n",
       "       [ 2.03261375e+02,  9.63564703e+01],\n",
       "       [ 1.04063241e+02,  1.03482094e+02],\n",
       "       [ 2.05567639e+02,  4.09177376e+01],\n",
       "       [-1.01688066e+02,  9.95204689e+01],\n",
       "       [-2.26306767e+02,  1.55565936e+02],\n",
       "       [ 1.72278037e+02,  1.05884837e+02],\n",
       "       [-5.82072413e+01,  3.14693271e+01],\n",
       "       [-1.46758540e+02,  1.76059295e+02],\n",
       "       [-1.98069948e+02,  2.76443983e+02],\n",
       "       [ 1.71973185e+02,  8.59123377e+01],\n",
       "       [-4.58944100e+01,  4.90542799e+01],\n",
       "       [ 1.12254929e+02,  1.28205478e+02],\n",
       "       [-1.20798037e+02,  5.59811686e+01],\n",
       "       [-1.81429150e+01,  1.54048177e+02],\n",
       "       [-7.87648386e+01,  1.65385383e+02],\n",
       "       [ 1.59573063e+02,  7.26556334e+01],\n",
       "       [-2.64706090e+00,  7.85108550e+01],\n",
       "       [-3.72537631e+01, -1.14032412e+01],\n",
       "       [-1.60653038e+02,  1.38414568e+02],\n",
       "       [-1.90195372e+02,  1.01890224e+02],\n",
       "       [ 1.23199309e+02,  7.71244409e+01],\n",
       "       [-1.44113480e+02,  2.09861494e+02],\n",
       "       [-2.00576442e+02,  2.14275977e+02],\n",
       "       [ 1.93165791e+02,  6.92967897e+01],\n",
       "       [ 2.84330934e+02,  3.48764867e+01],\n",
       "       [ 4.43097289e+01,  1.24579573e+02],\n",
       "       [-8.52062039e+01,  1.29955760e+02],\n",
       "       [-3.92487785e+01,  8.76757714e+01],\n",
       "       [-9.73431737e+01,  3.07888805e-02],\n",
       "       [-8.07103421e+01,  1.22849859e+02],\n",
       "       [ 4.26174433e+00,  1.11725163e+02],\n",
       "       [-1.79397180e+02,  1.67047013e+02],\n",
       "       [-1.13249314e+02,  1.61330786e+02],\n",
       "       [-6.75595059e+01,  1.42563477e+02],\n",
       "       [ 2.11240725e+02,  8.71412243e+01],\n",
       "       [-4.82887065e+01,  2.59991741e+01],\n",
       "       [ 2.79913936e+02,  4.33432384e+01],\n",
       "       [-1.67589584e+02,  1.65038624e+02],\n",
       "       [ 1.16473151e+02,  1.15767762e+02],\n",
       "       [-6.62509833e+01,  3.88223058e+01],\n",
       "       [ 2.61100355e+02,  5.14329655e+01],\n",
       "       [-7.81205459e+01,  7.38856455e+01],\n",
       "       [-1.78099862e+02,  1.76659562e+02],\n",
       "       [-7.98358340e+01,  1.89977029e+02],\n",
       "       [-2.30604442e+01,  1.28138294e+02],\n",
       "       [ 4.42410377e+01,  1.30209030e+02],\n",
       "       [-5.05847123e+01,  8.89095318e+01],\n",
       "       [-2.24183649e+02,  1.67894003e+02],\n",
       "       [-1.40750455e+02,  1.66228420e+02],\n",
       "       [-1.32473778e+02,  1.85686546e+02],\n",
       "       [-1.08186737e+02,  1.13724702e+02],\n",
       "       [-7.08040857e+01,  1.30036000e+02],\n",
       "       [-2.36134999e+02,  2.24816461e+02],\n",
       "       [-1.38564227e+02,  7.10125683e+01],\n",
       "       [-1.09781266e+02,  2.34212195e+01],\n",
       "       [ 1.67652413e+02,  9.14301842e+01],\n",
       "       [-1.30027577e+02,  1.56019939e+02],\n",
       "       [-8.02534690e+01,  3.08705369e+01],\n",
       "       [-1.09646032e+01,  2.83294887e+01],\n",
       "       [-1.08285884e+02,  1.01261436e+02],\n",
       "       [-6.62847491e+01,  7.35472684e+01],\n",
       "       [ 2.40412272e+02,  8.40749353e+01],\n",
       "       [ 1.04821968e+02,  1.25510443e+02],\n",
       "       [ 1.39813098e+02,  9.32454851e+01],\n",
       "       [-3.68989374e+01,  1.40125737e+02],\n",
       "       [-9.25296521e+01,  9.23190712e+01],\n",
       "       [ 3.45231904e+00,  2.62055233e+01],\n",
       "       [ 1.62367328e+02,  7.74169771e+01],\n",
       "       [-1.77124343e+02,  1.45765162e+02],\n",
       "       [ 2.00555050e+02,  7.52241885e+01],\n",
       "       [-1.58786437e+02,  1.59545888e+02],\n",
       "       [ 2.98124522e+02,  7.14559042e+01],\n",
       "       [ 2.95385921e+02,  3.40868335e+01],\n",
       "       [-1.61386303e+02,  3.24709160e+02],\n",
       "       [ 2.21646562e+02,  1.00773506e+02],\n",
       "       [ 1.33922631e+00,  1.41961534e+01],\n",
       "       [-1.66694853e+02,  2.48175262e+02],\n",
       "       [ 1.17017973e+02,  8.36217016e+01],\n",
       "       [-1.00783044e+02,  2.24289470e+02],\n",
       "       [ 1.72710993e+02,  8.49457679e+01],\n",
       "       [-1.31168223e+02,  8.92329577e+01],\n",
       "       [-2.03925012e+01, -6.10035523e+01],\n",
       "       [-1.37313610e+02,  1.27744413e+02],\n",
       "       [-1.70970291e+02,  2.47187606e+02],\n",
       "       [ 1.03352292e+02,  1.17056489e+02],\n",
       "       [-1.31069166e+02,  1.75721733e+02],\n",
       "       [-4.23958558e+01, -2.47243295e+00],\n",
       "       [ 3.92103919e+01,  1.08476567e+02],\n",
       "       [ 1.92775945e+02,  7.72046141e+01],\n",
       "       [ 3.59716100e+02,  2.01428952e+01],\n",
       "       [ 5.27481854e+01,  1.00498690e+02],\n",
       "       [ 7.24072213e+01,  1.37470004e+02],\n",
       "       [ 1.79788628e+02,  4.11177273e+01],\n",
       "       [-7.82026347e+01,  1.00490602e+02],\n",
       "       [ 1.30833021e+02,  1.13935453e+02],\n",
       "       [-7.09253478e+01, -6.36334149e+00],\n",
       "       [-8.36914198e+01,  6.65446668e+01],\n",
       "       [-8.56463698e+01,  4.23404540e+01],\n",
       "       [-6.37013989e+01,  8.10432327e+01],\n",
       "       [ 4.99122106e+01,  1.08666604e+02],\n",
       "       [ 1.02342902e+02,  9.25547393e+01],\n",
       "       [-1.98604368e+02,  2.51135313e+02],\n",
       "       [ 5.18736001e+01,  9.70238570e+01],\n",
       "       [-1.29009019e+02,  1.79027771e+02],\n",
       "       [-3.71877625e+01,  1.11783263e+02],\n",
       "       [-1.83292598e+02,  1.28081645e+02],\n",
       "       [-1.00244402e+02,  9.44466623e+01],\n",
       "       [ 4.59564285e+01,  1.02593272e+02],\n",
       "       [ 1.64861773e+02,  1.14983447e+02],\n",
       "       [ 2.80739335e+02,  3.50562432e+01],\n",
       "       [ 2.06870929e+02,  7.81367001e+01],\n",
       "       [-6.33802669e+01,  1.51500867e+02],\n",
       "       [-2.44989340e+02,  1.62002126e+02],\n",
       "       [-6.75913372e+01,  5.59104142e+01],\n",
       "       [ 2.00599676e+02,  6.97175665e+01],\n",
       "       [-8.08277496e+01,  1.87747334e+02],\n",
       "       [-1.15439960e+02,  1.20616554e+02],\n",
       "       [ 1.28981739e+02,  9.66485487e+01],\n",
       "       [ 1.86332717e+02,  3.06121926e+01],\n",
       "       [ 8.94881591e+01,  1.18982342e+02],\n",
       "       [ 1.46594574e+02,  6.14646578e+01],\n",
       "       [-1.56626212e+02,  1.61651386e+02],\n",
       "       [ 2.33643484e+02,  5.96970681e+01],\n",
       "       [-1.31937706e+02,  2.36748299e+02],\n",
       "       [-1.85771113e+02,  2.97498615e+02],\n",
       "       [ 1.50806323e+02,  6.19304747e+01],\n",
       "       [-2.19293659e+02,  2.46176084e+02],\n",
       "       [ 1.97487040e+02,  8.89353712e+01],\n",
       "       [-9.03562600e+01,  1.06604717e+02],\n",
       "       [-2.99543083e+01,  3.16901992e+01],\n",
       "       [ 1.03883998e+02,  6.30307723e+01],\n",
       "       [-1.22488428e+02,  9.84699524e+01],\n",
       "       [ 1.35444739e+01, -4.92760007e+01],\n",
       "       [-8.27696863e+01,  1.48008169e+01],\n",
       "       [-1.57858217e+02,  1.47227853e+02],\n",
       "       [-1.45241376e+02,  6.54715645e+01],\n",
       "       [ 1.44132770e+02,  1.09213887e+02],\n",
       "       [ 7.87146435e+01,  1.14274600e+02],\n",
       "       [-3.41735527e+01,  9.83857731e+01],\n",
       "       [ 5.16356774e+01,  1.18971771e+02],\n",
       "       [ 1.13331494e+02,  9.63292786e+01],\n",
       "       [-1.81918830e+01,  1.31812631e+02],\n",
       "       [-4.27031130e+01,  5.61962118e+01],\n",
       "       [ 2.39886857e+01, -4.48700181e+01],\n",
       "       [-7.18626564e-01,  1.29551558e+02],\n",
       "       [ 8.34871661e+01,  1.06430920e+02],\n",
       "       [-1.57893104e+02,  2.46892996e+02],\n",
       "       [-8.49631410e+01,  1.60714132e+02],\n",
       "       [-4.53247294e+01,  1.47993743e+02],\n",
       "       [ 2.89553032e+01,  9.85528677e+01],\n",
       "       [ 1.73832703e+02,  9.31585046e+01],\n",
       "       [ 6.92915382e+01,  1.22616485e+02],\n",
       "       [-1.93543086e+02,  1.78466218e+02],\n",
       "       [-7.26773516e+01,  2.07399188e+02],\n",
       "       [ 7.99505208e+01,  8.49268012e+01],\n",
       "       [ 4.53714173e+01,  1.37941511e+02],\n",
       "       [-1.61107138e+02,  2.19484415e+02],\n",
       "       [ 2.91936157e+02,  4.71711301e+01],\n",
       "       [-9.91004993e+01,  1.69730741e+02],\n",
       "       [-1.25377400e+02,  1.38179598e+02],\n",
       "       [-3.01179271e+01,  1.05606174e+02],\n",
       "       [-1.23994331e+02,  1.76768413e+02],\n",
       "       [ 8.45862387e+01,  1.09645428e+02],\n",
       "       [-1.56384826e+02,  8.27388064e+01],\n",
       "       [-1.13002099e+02, -9.14312213e+00],\n",
       "       [ 5.95187210e+01,  1.23301925e+02],\n",
       "       [-2.37623762e+01, -8.68592365e+00],\n",
       "       [ 1.72195876e+02,  8.81887117e+01],\n",
       "       [-7.33873304e+01,  6.72914682e+01],\n",
       "       [ 7.19925094e+01,  9.93005828e+01],\n",
       "       [ 1.55217308e+02,  9.51058667e+01],\n",
       "       [-1.33370686e+02,  1.39739177e+02],\n",
       "       [-1.88917158e+01, -2.82907566e+01],\n",
       "       [ 5.78213130e+01,  1.52159117e+02],\n",
       "       [-2.46572037e+02,  2.76096020e+02],\n",
       "       [ 2.24669771e+01,  1.08278747e+02],\n",
       "       [-1.96533601e+02,  2.03756003e+02],\n",
       "       [-4.14469962e+01,  1.29930239e+02],\n",
       "       [-1.70405822e+02,  2.39755322e+02],\n",
       "       [-4.38644643e+01,  1.68035902e+02],\n",
       "       [ 1.95296790e+02,  4.09996573e+01],\n",
       "       [ 1.72275210e+02,  7.78375520e+01],\n",
       "       [-4.06271734e+01, -6.55655023e+01],\n",
       "       [-2.83891795e+01,  1.55281846e+02],\n",
       "       [ 2.16931399e+02,  5.75163577e+01],\n",
       "       [-7.87070895e+01,  9.95362319e+01],\n",
       "       [ 4.19097348e+01,  1.17839546e+02],\n",
       "       [-8.83263123e+01, -2.95122909e+01],\n",
       "       [ 7.59432924e+01,  9.37188168e+01],\n",
       "       [ 6.12847879e+01,  8.08217487e+01],\n",
       "       [ 1.73565201e+02,  6.70123624e+01],\n",
       "       [-1.61699217e+02,  1.63893622e+02],\n",
       "       [-8.38434186e+01,  2.06164405e-02],\n",
       "       [ 6.39901258e+01, -1.36092396e+02],\n",
       "       [-1.17498133e+01,  1.85808771e+01],\n",
       "       [ 1.85816507e+02,  6.24420055e+01],\n",
       "       [ 1.25181157e+01,  1.52009840e+02],\n",
       "       [ 1.25703945e+02,  1.08783445e+02],\n",
       "       [-2.01431705e+02,  2.04412865e+02],\n",
       "       [ 1.56547206e+02,  8.39165329e+01],\n",
       "       [-1.48551870e+02,  3.11588345e+02],\n",
       "       [ 1.69984481e+02,  7.78157079e+01],\n",
       "       [ 9.72076980e+01,  1.42996252e+02],\n",
       "       [-8.84082380e+01,  7.75309297e+01],\n",
       "       [ 1.03281442e+02,  1.24554823e+02],\n",
       "       [ 1.14969053e+01,  1.14113672e+02],\n",
       "       [-1.59492531e+02,  2.13455027e+02],\n",
       "       [ 1.67231980e+02,  5.28840036e+01],\n",
       "       [-1.23313317e+02,  1.94667399e+02],\n",
       "       [-3.53807801e+00,  1.51047784e+02],\n",
       "       [ 7.45895527e+01, -5.08623780e+01],\n",
       "       [-3.08414282e+01, -2.32226521e+01],\n",
       "       [ 1.27763674e+02,  1.19146022e+02],\n",
       "       [ 6.56386554e+01,  1.07947507e+02],\n",
       "       [ 1.41994060e+02,  9.04580325e+01],\n",
       "       [-1.16774240e+02,  1.25043570e+02],\n",
       "       [-6.24581362e+01,  1.35707376e+02],\n",
       "       [-9.91360771e+01,  1.71221303e+02],\n",
       "       [-1.44017364e+02,  1.48895571e+02],\n",
       "       [-1.24992877e+02,  1.26433148e+02],\n",
       "       [ 9.01038035e+01,  1.11437808e+02],\n",
       "       [ 1.60272371e+02,  6.60453240e+01],\n",
       "       [ 2.35217443e+02,  5.91911131e+01],\n",
       "       [-1.34692890e+02,  1.12839265e+02],\n",
       "       [-8.48383261e+01,  1.34761986e+02],\n",
       "       [-1.61415720e+02,  8.51687905e+01],\n",
       "       [-8.55589213e+01, -2.02128247e+01],\n",
       "       [ 1.55625071e+02,  9.16622522e+01],\n",
       "       [-9.79376498e+01,  1.50859144e+02],\n",
       "       [-1.38718568e+01,  1.58237544e+02],\n",
       "       [-1.53699226e+02,  2.06281122e+02],\n",
       "       [ 2.26345553e+02,  2.47477789e+01],\n",
       "       [ 4.29137771e+01,  1.16759636e+02],\n",
       "       [-6.98414479e+01,  6.53017571e+01],\n",
       "       [-1.25742115e+02,  9.49558144e+01],\n",
       "       [ 1.27623619e+01, -9.13634677e+01],\n",
       "       [-5.64649030e+01,  5.06186208e+01],\n",
       "       [-1.55336591e+02,  2.36831913e+02],\n",
       "       [ 4.45063273e+01, -1.54623774e+02],\n",
       "       [-4.72114338e+01,  2.37196995e+01],\n",
       "       [ 8.55359285e+01,  9.94546072e+01],\n",
       "       [ 8.07497184e+01,  8.74869455e+01],\n",
       "       [ 7.67442337e+01,  1.20989334e+02],\n",
       "       [ 1.88869624e+02,  8.01800537e+01],\n",
       "       [-1.09818641e+02,  1.53214904e+02],\n",
       "       [-9.77241132e+01,  7.45623133e+01],\n",
       "       [-1.60135145e+02,  1.64145339e+02],\n",
       "       [-1.02042765e+02,  1.45673500e+02],\n",
       "       [ 1.84253544e+02,  7.29034520e+01],\n",
       "       [ 1.94089927e+02,  6.70046971e+01]])"
      ]
     },
     "execution_count": 6,
     "metadata": {},
     "output_type": "execute_result"
    }
   ],
   "source": [
    "X"
   ]
  },
  {
   "cell_type": "code",
   "execution_count": 7,
   "metadata": {},
   "outputs": [
    {
     "data": {
      "text/plain": [
       "array([0, 1, 0, 0, 0, 0, 0, 1, 0, 1, 0, 0, 0, 1, 1, 0, 0, 0, 1, 0, 1, 1,\n",
       "       0, 0, 1, 0, 1, 1, 1, 0, 1, 0, 0, 0, 1, 1, 1, 1, 1, 0, 0, 1, 0, 1,\n",
       "       1, 0, 1, 1, 1, 1, 0, 0, 0, 1, 1, 0, 1, 1, 1, 0, 1, 0, 1, 0, 0, 0,\n",
       "       1, 1, 1, 1, 0, 1, 1, 0, 0, 0, 0, 1, 1, 1, 0, 1, 1, 1, 0, 1, 0, 1,\n",
       "       0, 1, 0, 1, 1, 0, 0, 0, 1, 1, 1, 1, 0, 0, 1, 1, 1, 0, 1, 1, 1, 1,\n",
       "       1, 0, 0, 0, 0, 1, 1, 0, 1, 0, 1, 0, 0, 1, 0, 1, 1, 0, 1, 0, 1, 1,\n",
       "       1, 1, 0, 1, 1, 0, 0, 0, 0, 0, 0, 1, 0, 1, 1, 1, 1, 0, 0, 1, 0, 0,\n",
       "       1, 1, 1, 0, 0, 0, 0, 0, 0, 1, 0, 1, 1, 0, 0, 0, 0, 1, 0, 1, 1, 0,\n",
       "       1, 0, 1, 1, 0, 1, 1, 1, 1, 1, 0, 0, 1, 0, 0, 0, 1, 1, 0, 0, 1, 0,\n",
       "       0, 0, 0, 0, 1, 1, 0, 0, 1, 0, 1, 1, 0, 0, 0, 1, 1, 0, 1, 0, 1, 0,\n",
       "       0, 1, 1, 0, 1, 0, 1, 0, 1, 0, 0, 0, 1, 0, 0, 1, 0, 1, 0, 0, 0, 1,\n",
       "       1, 1, 1, 0, 0, 0, 1, 0, 1, 0, 0, 1, 0, 0, 1, 0, 1, 0, 1, 1, 0, 0,\n",
       "       0, 1, 1, 0, 1, 1, 0, 0, 0, 1, 0, 1, 1, 0, 1, 0, 1, 0, 0, 1, 1, 1,\n",
       "       1, 1, 1, 1, 0, 0, 0, 0, 1, 1, 1, 1, 0, 0])"
      ]
     },
     "execution_count": 7,
     "metadata": {},
     "output_type": "execute_result"
    }
   ],
   "source": [
    "y"
   ]
  },
  {
   "cell_type": "code",
   "execution_count": 8,
   "metadata": {},
   "outputs": [
    {
     "data": {
      "text/plain": [
       "<matplotlib.collections.PathCollection at 0x272f781d310>"
      ]
     },
     "execution_count": 8,
     "metadata": {},
     "output_type": "execute_result"
    },
    {
     "data": {
      "image/png": "[encoded data removed]",
      "text/plain": [
       "<Figure size 432x288 with 1 Axes>"
      ]
     },
     "metadata": {
      "needs_background": "light"
     },
     "output_type": "display_data"
    }
   ],
   "source": [
    "plt.scatter(X[:, 0], X[:, 1], c=y)\n",
    "# c: color setting."
   ]
  },
  {
   "cell_type": "code",
   "execution_count": 10,
   "metadata": {},
   "outputs": [],
   "source": [
    "# Normalization:\n",
    "X1 = preprocessing.scale(X)"
   ]
  },
  {
   "cell_type": "code",
   "execution_count": 11,
   "metadata": {},
   "outputs": [
    {
     "data": {
      "text/plain": [
       "<matplotlib.collections.PathCollection at 0x272f783c4f0>"
      ]
     },
     "execution_count": 11,
     "metadata": {},
     "output_type": "execute_result"
    },
    {
     "data": {
      "image/png": "[encoded data removed]",
      "text/plain": [
       "<Figure size 432x288 with 1 Axes>"
      ]
     },
     "metadata": {
      "needs_background": "light"
     },
     "output_type": "display_data"
    }
   ],
   "source": [
    "plt.scatter(X1[:, 0], X1[:, 1], c=y)"
   ]
  },
  {
   "cell_type": "code",
   "execution_count": 12,
   "metadata": {},
   "outputs": [
    {
     "data": {
      "text/plain": [
       "0.9444444444444444"
      ]
     },
     "execution_count": 12,
     "metadata": {},
     "output_type": "execute_result"
    }
   ],
   "source": [
    "X1_train, X1_test, y_train, y_test = train_test_split(X1,y, test_size=0.3)\n",
    "\n",
    "model_1 = SVC()\n",
    "# C-Support Vector Classification\n",
    "\n",
    "model_1.fit(X1_train, y_train)\n",
    "model_1.score(X1_test, y_test)"
   ]
  },
  {
   "cell_type": "code",
   "execution_count": 13,
   "metadata": {},
   "outputs": [
    {
     "data": {
      "text/plain": [
       "0.9333333333333333"
      ]
     },
     "execution_count": 13,
     "metadata": {},
     "output_type": "execute_result"
    }
   ],
   "source": [
    "# If not use Normalization:\n",
    "X_train, X_test, y_train, y_test = train_test_split(X,y, test_size=0.3)\n",
    "\n",
    "model = SVC()\n",
    "model.fit(X_test, y_test)\n",
    "model.score(X_test, y_test)"
   ]
  }
 ],
 "metadata": {
  "kernelspec": {
   "display_name": "Python 3",
   "language": "python",
   "name": "python3"
  },
  "language_info": {
   "codemirror_mode": {
    "name": "ipython",
    "version": 3
   },
   "file_extension": ".py",
   "mimetype": "text/x-python",
   "name": "python",
   "nbconvert_exporter": "python",
   "pygments_lexer": "ipython3",
   "version": "3.8.5"
  }
 },
 "nbformat": 4,
 "nbformat_minor": 5
}
